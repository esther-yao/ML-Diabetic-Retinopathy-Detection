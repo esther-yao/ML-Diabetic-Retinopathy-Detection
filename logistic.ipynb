{
 "cells": [
  {
   "cell_type": "code",
   "execution_count": 1,
   "metadata": {},
   "outputs": [],
   "source": [
    "import numpy as np\n",
    "import torch\n",
    "import torch.nn as nn\n",
    "import torch.optim as optim\n",
    "import torch.nn.functional as F"
   ]
  },
  {
   "cell_type": "code",
   "execution_count": 2,
   "metadata": {},
   "outputs": [],
   "source": [
    "## follow the instructions on the website\n",
    "def unpickle(file):\n",
    "    ## used to read binary files since our data files are in binary format\n",
    "    import pickle\n",
    "    with open(file, 'rb') as fo:\n",
    "        dict = pickle.load(fo, encoding='bytes')\n",
    "    return dict"
   ]
  },
  {
   "cell_type": "code",
   "execution_count": 3,
   "metadata": {},
   "outputs": [],
   "source": [
    "data_1=unpickle('output_data_1.pickle')"
   ]
  },
  {
   "cell_type": "code",
   "execution_count": 4,
   "metadata": {},
   "outputs": [],
   "source": [
    "data_2=unpickle('output_data_2.pickle')"
   ]
  },
  {
   "cell_type": "code",
   "execution_count": 5,
   "metadata": {},
   "outputs": [],
   "source": [
    "data_3=unpickle('output_data_3.pickle')"
   ]
  },
  {
   "cell_type": "code",
   "execution_count": 6,
   "metadata": {},
   "outputs": [],
   "source": [
    "data_4=unpickle('output_data_4.pickle')"
   ]
  },
  {
   "cell_type": "code",
   "execution_count": 7,
   "metadata": {},
   "outputs": [],
   "source": [
    "data_5=unpickle('output_data_5.pickle')"
   ]
  },
  {
   "cell_type": "code",
   "execution_count": 8,
   "metadata": {},
   "outputs": [],
   "source": [
    "data = np.concatenate((data_1,data_2,data_3,data_4,data_5),axis=0)"
   ]
  },
  {
   "cell_type": "code",
   "execution_count": 9,
   "metadata": {},
   "outputs": [],
   "source": [
    "label =unpickle('output_label.pickle')"
   ]
  },
  {
   "cell_type": "code",
   "execution_count": 10,
   "metadata": {},
   "outputs": [
    {
     "data": {
      "text/plain": [
       "(9074,)"
      ]
     },
     "execution_count": 10,
     "metadata": {},
     "output_type": "execute_result"
    }
   ],
   "source": [
    "label.shape"
   ]
  },
  {
   "cell_type": "code",
   "execution_count": 11,
   "metadata": {},
   "outputs": [
    {
     "data": {
      "text/plain": [
       "numpy.ndarray"
      ]
     },
     "execution_count": 11,
     "metadata": {},
     "output_type": "execute_result"
    }
   ],
   "source": [
    "type(data)"
   ]
  },
  {
   "cell_type": "code",
   "execution_count": 12,
   "metadata": {},
   "outputs": [],
   "source": [
    "total_count = data.shape[0]"
   ]
  },
  {
   "cell_type": "code",
   "execution_count": 13,
   "metadata": {},
   "outputs": [
    {
     "data": {
      "text/plain": [
       "9074"
      ]
     },
     "execution_count": 13,
     "metadata": {},
     "output_type": "execute_result"
    }
   ],
   "source": [
    "total_count"
   ]
  },
  {
   "cell_type": "code",
   "execution_count": 14,
   "metadata": {},
   "outputs": [],
   "source": [
    "import math"
   ]
  },
  {
   "cell_type": "code",
   "execution_count": 15,
   "metadata": {},
   "outputs": [
    {
     "name": "stdout",
     "output_type": "stream",
     "text": [
      "9074 6352 1361 1361\n"
     ]
    }
   ],
   "source": [
    "train_count = math.ceil(total_count * 0.7)\n",
    "val_count = math.ceil((total_count - train_count) * 0.5)\n",
    "test_count = total_count - train_count - val_count\n",
    "print(total_count, train_count, val_count, test_count)"
   ]
  },
  {
   "cell_type": "code",
   "execution_count": 16,
   "metadata": {},
   "outputs": [],
   "source": [
    "X_train = data[:train_count]\n",
    "y_train = label[:train_count]\n",
    "X_val = data[train_count:(train_count+val_count)]\n",
    "y_val = label[train_count:(train_count+val_count)]\n",
    "X_test = data[(train_count+val_count):(train_count+val_count+test_count)]\n",
    "y_test = label[(train_count+val_count):(train_count+val_count+test_count)]"
   ]
  },
  {
   "cell_type": "code",
   "execution_count": 17,
   "metadata": {},
   "outputs": [
    {
     "data": {
      "text/plain": [
       "((6352, 196608), (6352,), (1361, 196608), (1361,), (1361, 196608), (1361,))"
      ]
     },
     "execution_count": 17,
     "metadata": {},
     "output_type": "execute_result"
    }
   ],
   "source": [
    "X_train.shape, y_train.shape, X_val.shape, y_val.shape, X_test.shape, y_test.shape"
   ]
  },
  {
   "cell_type": "code",
   "execution_count": 18,
   "metadata": {},
   "outputs": [],
   "source": [
    "# for RGB data we can simply divide by 255\n",
    "X_train_normalized =  X_train / 255.0\n",
    "# print (type(X_train_normalized.shape[0]))\n",
    "\n",
    "X_val_normalized =  X_val / 255.0\n",
    "X_test_normalized = X_test / 255.0"
   ]
  },
  {
   "cell_type": "code",
   "execution_count": 19,
   "metadata": {},
   "outputs": [],
   "source": [
    "import torch\n",
    "import torch.nn as nn\n",
    "import torch.nn.functional as F\n",
    "from torch import Tensor\n",
    "import torch.optim as optim\n",
    "\n",
    "class MLP(nn.Module):\n",
    "    ## a very simple MLP model\n",
    "    def __init__(self, input_dim, output_dim):\n",
    "        super(MLP, self).__init__()\n",
    "        self.fc1 = nn.Linear(input_dim, output_dim)\n",
    "    def forward(self, x):\n",
    "        x = self.fc1(x)\n",
    "        return x"
   ]
  },
  {
   "cell_type": "code",
   "execution_count": 20,
   "metadata": {},
   "outputs": [],
   "source": [
    "# utility for getting prediction accuracy\n",
    "def get_correct_and_accuracy(y_pred, y):\n",
    "    # y_pred is the nxC prediction scores\n",
    "    # give the number of correct and the accuracy\n",
    "    n = y.shape[0]\n",
    "    # find the prediction class label\n",
    "    _ ,pred_class = y_pred.max(dim=1)\n",
    "    correct = (pred_class == y).sum().item()\n",
    "    return correct ,correct/n"
   ]
  },
  {
   "cell_type": "code",
   "execution_count": 21,
   "metadata": {
    "scrolled": true
   },
   "outputs": [
    {
     "name": "stdout",
     "output_type": "stream",
     "text": [
      "model structure:  MLP(\n",
      "  (fc1): Linear(in_features=196608, out_features=5, bias=True)\n",
      ")\n"
     ]
    }
   ],
   "source": [
    "# init network\n",
    "mlp = MLP(196608, 5)\n",
    "print('model structure: ',mlp)\n",
    "# init optimizer\n",
    "optimizer = optim.Adam(mlp.parameters(), lr=0.001)\n",
    "# set loss function\n",
    "criterion = nn.CrossEntropyLoss()"
   ]
  },
  {
   "cell_type": "code",
   "execution_count": 29,
   "metadata": {},
   "outputs": [],
   "source": [
    "# prepare for mini-batch stochastic gradient descent\n",
    "n_iteration = 30\n",
    "batch_size = 128\n",
    "n_train_data = X_train_normalized.shape[0]\n",
    "n_batch = int(np.ceil(n_train_data/batch_size))\n",
    "\n"
   ]
  },
  {
   "cell_type": "code",
   "execution_count": null,
   "metadata": {},
   "outputs": [],
   "source": [
    "# convert X_train and X_val to tensor and flatten them\n",
    "X_train_tensor = torch.from_numpy(X_train_normalized).float()\n",
    "X_val_tensor = torch.from_numpy(X_val_normalized).float()\n",
    "\n",
    "\n",
    "# convert training label to tensor and to type long\n",
    "y_train_tensor = torch.from_numpy(y_train).long()\n",
    "y_val_tensor = torch.from_numpy(y_val).long()\n",
    "\n",
    "# print (y_train_tensor.size())\n",
    "# print (y_train_tensor.dtype)"
   ]
  },
  {
   "cell_type": "code",
   "execution_count": 30,
   "metadata": {},
   "outputs": [
    {
     "data": {
      "text/plain": [
       "tensor([[0.5020, 0.5020, 0.5020,  ..., 0.5020, 0.5020, 0.5020],\n",
       "        [0.5020, 0.5020, 0.5020,  ..., 0.5176, 0.5176, 0.5176],\n",
       "        [0.5020, 0.5020, 0.5020,  ..., 0.5020, 0.5020, 0.5020],\n",
       "        ...,\n",
       "        [0.5020, 0.5020, 0.5020,  ..., 0.5020, 0.5020, 0.5020],\n",
       "        [0.5020, 0.5020, 0.4980,  ..., 0.5020, 0.5020, 0.4980],\n",
       "        [0.5020, 0.5020, 0.5020,  ..., 0.5020, 0.5020, 0.5020]])"
      ]
     },
     "execution_count": 30,
     "metadata": {},
     "output_type": "execute_result"
    }
   ],
   "source": [
    "X_train_tensor"
   ]
  },
  {
   "cell_type": "code",
   "execution_count": 31,
   "metadata": {},
   "outputs": [
    {
     "data": {
      "text/plain": [
       "torch.Size([6352])"
      ]
     },
     "execution_count": 31,
     "metadata": {},
     "output_type": "execute_result"
    }
   ],
   "source": [
    "y_train_tensor.shape"
   ]
  },
  {
   "cell_type": "code",
   "execution_count": 32,
   "metadata": {
    "scrolled": true
   },
   "outputs": [
    {
     "name": "stdout",
     "output_type": "stream",
     "text": [
      "Iter 0 ,Train loss: 75.535, Train acc: 0.419, Val loss: 32.634, Val acc: 0.306\n",
      "Iter 1 ,Train loss: 52.765, Train acc: 0.452, Val loss: 37.193, Val acc: 0.302\n",
      "Iter 2 ,Train loss: 36.925, Train acc: 0.488, Val loss: 6.524, Val acc: 0.431\n",
      "Iter 3 ,Train loss: 43.863, Train acc: 0.444, Val loss: 10.946, Val acc: 0.405\n",
      "Iter 4 ,Train loss: 40.141, Train acc: 0.449, Val loss: 8.377, Val acc: 0.528\n",
      "Iter 5 ,Train loss: 89.397, Train acc: 0.445, Val loss: 22.367, Val acc: 0.315\n",
      "Iter 6 ,Train loss: 154.683, Train acc: 0.391, Val loss: 19.862, Val acc: 0.340\n",
      "Iter 7 ,Train loss: 169.941, Train acc: 0.379, Val loss: 44.651, Val acc: 0.289\n",
      "Iter 8 ,Train loss: 212.504, Train acc: 0.345, Val loss: 39.589, Val acc: 0.309\n",
      "Iter 9 ,Train loss: 286.013, Train acc: 0.312, Val loss: 31.251, Val acc: 0.444\n",
      "Iter 10 ,Train loss: 213.855, Train acc: 0.345, Val loss: 42.460, Val acc: 0.464\n",
      "Iter 11 ,Train loss: 222.117, Train acc: 0.362, Val loss: 31.967, Val acc: 0.458\n",
      "Iter 12 ,Train loss: 260.693, Train acc: 0.345, Val loss: 37.471, Val acc: 0.449\n",
      "Iter 13 ,Train loss: 186.583, Train acc: 0.368, Val loss: 73.411, Val acc: 0.434\n",
      "Iter 14 ,Train loss: 190.873, Train acc: 0.380, Val loss: 46.066, Val acc: 0.475\n",
      "Iter 15 ,Train loss: 190.625, Train acc: 0.372, Val loss: 62.572, Val acc: 0.445\n",
      "Iter 16 ,Train loss: 136.981, Train acc: 0.420, Val loss: 55.473, Val acc: 0.467\n",
      "Iter 17 ,Train loss: 153.338, Train acc: 0.416, Val loss: 28.807, Val acc: 0.486\n",
      "Iter 18 ,Train loss: 184.941, Train acc: 0.389, Val loss: 42.905, Val acc: 0.486\n",
      "Iter 19 ,Train loss: 191.901, Train acc: 0.379, Val loss: 42.824, Val acc: 0.465\n",
      "Iter 20 ,Train loss: 164.553, Train acc: 0.397, Val loss: 57.563, Val acc: 0.339\n",
      "Iter 21 ,Train loss: 194.258, Train acc: 0.388, Val loss: 46.545, Val acc: 0.333\n",
      "Iter 22 ,Train loss: 224.003, Train acc: 0.366, Val loss: 65.427, Val acc: 0.310\n",
      "Iter 23 ,Train loss: 160.518, Train acc: 0.410, Val loss: 40.555, Val acc: 0.482\n",
      "Iter 24 ,Train loss: 227.071, Train acc: 0.361, Val loss: 50.564, Val acc: 0.485\n",
      "Iter 25 ,Train loss: 214.718, Train acc: 0.386, Val loss: 41.047, Val acc: 0.472\n",
      "Iter 26 ,Train loss: 228.593, Train acc: 0.367, Val loss: 41.142, Val acc: 0.478\n",
      "Iter 27 ,Train loss: 219.288, Train acc: 0.373, Val loss: 39.448, Val acc: 0.466\n",
      "Iter 28 ,Train loss: 226.933, Train acc: 0.359, Val loss: 42.550, Val acc: 0.475\n",
      "Iter 29 ,Train loss: 220.225, Train acc: 0.375, Val loss: 36.053, Val acc: 0.478\n"
     ]
    }
   ],
   "source": [
    "## start \n",
    "train_loss_list = np.zeros(n_iteration)\n",
    "train_accu_list = np.zeros(n_iteration)\n",
    "val_loss_list = np.zeros(n_iteration)\n",
    "val_accu_list = np.zeros(n_iteration)\n",
    "for i in range(n_iteration):\n",
    "    # first get a minibatch of data\n",
    "    running_loss = 0\n",
    "    correct_train = 0\n",
    "    for j in range(n_batch):\n",
    "        batch_start_index = j*batch_size\n",
    "        # get data batch from the normalized data\n",
    "        X_batch = X_train_tensor[batch_start_index:batch_start_index+batch_size]\n",
    "        # get ground truth label y\n",
    "        y_batch = y_train_tensor[batch_start_index:batch_start_index+batch_size]\n",
    "        # predict\n",
    "        pred = mlp(X_batch)\n",
    "        # calculate loss\n",
    "        loss = criterion(pred, y_batch)\n",
    "        running_loss += loss.item()\n",
    "        # calculate correctly trained\n",
    "        train_correct,train_accuracy = get_correct_and_accuracy(pred, y_batch)\n",
    "        correct_train += train_correct\n",
    "        \n",
    "        # update\n",
    "        optimizer.zero_grad()\n",
    "        loss.backward()\n",
    "        optimizer.step()\n",
    "\n",
    "    ave_train_loss = running_loss/n_batch\n",
    "    train_accu = correct_train/n_train_data\n",
    "    pred_val = mlp(X_val_tensor)\n",
    "    loss_val = criterion(pred_val, y_val_tensor)\n",
    "    val_loss = loss_val.item()\n",
    "    val_count,val_accu = get_correct_and_accuracy(pred_val,y_val_tensor)\n",
    "    \n",
    "    print(\"Iter %d ,Train loss: %.3f, Train acc: %.3f, Val loss: %.3f, Val acc: %.3f\" \n",
    "          %(i ,ave_train_loss, train_accu, val_loss, val_accu)) \n",
    "    \n",
    "    ## add to the logs so that we can use them later for plotting\n",
    "    train_loss_list[i] = ave_train_loss\n",
    "    train_accu_list[i] = train_accu\n",
    "    val_loss_list[i] = val_loss\n",
    "    val_accu_list[i] = val_accu\n",
    "    "
   ]
  },
  {
   "cell_type": "code",
   "execution_count": 33,
   "metadata": {},
   "outputs": [
    {
     "data": {
      "image/png": "[encoded data removed]",
      "text/plain": [
       "<Figure size 432x288 with 1 Axes>"
      ]
     },
     "metadata": {
      "needs_background": "light"
     },
     "output_type": "display_data"
    }
   ],
   "source": [
    "import matplotlib.pyplot as plt\n",
    "import matplotlib.image as mpimg\n",
    "## plot training loss versus validation loss\n",
    "x_axis = np.arange(n_iteration)\n",
    "plt.plot(x_axis, train_loss_list, label='train loss')\n",
    "plt.plot(x_axis, val_loss_list, label='val loss')\n",
    "plt.legend()\n",
    "plt.show()"
   ]
  },
  {
   "cell_type": "code",
   "execution_count": 34,
   "metadata": {},
   "outputs": [
    {
     "data": {
      "image/png": "[encoded data removed]",
      "text/plain": [
       "<Figure size 432x288 with 1 Axes>"
      ]
     },
     "metadata": {
      "needs_background": "light"
     },
     "output_type": "display_data"
    }
   ],
   "source": [
    "## plot training accuracy versus validation accuracy\n",
    "plt.plot(x_axis, train_accu_list, label='train acc')\n",
    "plt.plot(x_axis, val_accu_list, label='val acc')\n",
    "plt.legend()\n",
    "plt.show()"
   ]
  },
  {
   "cell_type": "code",
   "execution_count": 28,
   "metadata": {},
   "outputs": [
    {
     "name": "stdout",
     "output_type": "stream",
     "text": [
      "Test accuracy:  0.5407788390889052\n"
     ]
    }
   ],
   "source": [
    "## test performance on the test set and report final performance\n",
    "\n",
    "X_test_tensor = torch.from_numpy(X_test_normalized).float().reshape(X_test_normalized.shape[0],-1)\n",
    "y_test_tensor = torch.from_numpy(y_test).long()\n",
    "pred_test = mlp(X_test_tensor)\n",
    "test_correct,test_acc = get_correct_and_accuracy(pred_test, y_test_tensor)\n",
    "\n",
    "print(\"Test accuracy: \",test_acc )"
   ]
  }
 ],
 "metadata": {
  "kernelspec": {
   "display_name": "Python 3",
   "language": "python",
   "name": "python3"
  },
  "language_info": {
   "codemirror_mode": {
    "name": "ipython",
    "version": 3
   },
   "file_extension": ".py",
   "mimetype": "text/x-python",
   "name": "python",
   "nbconvert_exporter": "python",
   "pygments_lexer": "ipython3",
   "version": "3.6.9"
  }
 },
 "nbformat": 4,
 "nbformat_minor": 2
}
